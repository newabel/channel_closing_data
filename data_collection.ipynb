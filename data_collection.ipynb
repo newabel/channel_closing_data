{
 "cells": [
  {
   "cell_type": "markdown",
   "id": "5ee58e40-8e8b-4479-b4c9-6433078cd1e3",
   "metadata": {},
   "source": [
    "Data Collection workflow for finding on chain fees from closures"
   ]
  },
  {
   "cell_type": "code",
   "execution_count": null,
   "id": "1c75f089-45c7-418f-8848-ba7a79b3bd1a",
   "metadata": {},
   "outputs": [],
   "source": [
    "import numpy as np\n",
    "import pandas as pd\n",
    "import requests\n",
    "import json"
   ]
  },
  {
   "cell_type": "code",
   "execution_count": null,
   "id": "a91495c4-f212-4221-894b-d8b2fe2d6301",
   "metadata": {},
   "outputs": [],
   "source": [
    "from tqdm.auto import tqdm\n",
    "tqdm.pandas()"
   ]
  },
  {
   "cell_type": "code",
   "execution_count": null,
   "id": "7cde4fb0-0b4e-4e30-a5d1-fe115ad46fcd",
   "metadata": {},
   "outputs": [],
   "source": [
    "pubkey = \"03d95924d6de5784f0b610d5a597d4a94e247c6da5e8db39a3d051cd9059467719\"\n",
    "index=0\n",
    "df = pd.DataFrame()\n",
    "url = \"https://mempool.space/api/v1/lightning/channels?public_key=\"+pubkey+\"&status=closed&index=\"+str(index)\n",
    "closed_channels = pd.DataFrame(json.loads(requests.get(url).text))\n",
    "while closed_channels.shape[0] != 0:\n",
    "    df = pd.concat([df,closed_channels])\n",
    "    index += 10\n",
    "    url = \"https://mempool.space/api/v1/lightning/channels?public_key=\"+pubkey+\"&status=closed&index=\"+str(index)\n",
    "    closed_channels = pd.DataFrame(json.loads(requests.get(url).text))\n",
    "    if index % 100 == 0:\n",
    "        print(f\"Number of rows: {df.shape[0]}\")\n",
    "print(f\"Completed with {df.shape[0]} channels pulled.\")"
   ]
  },
  {
   "cell_type": "code",
   "execution_count": null,
   "id": "b2b57803-fa5c-48cf-ab48-b004ebdcb436",
   "metadata": {},
   "outputs": [],
   "source": [
    "df.head()"
   ]
  },
  {
   "cell_type": "code",
   "execution_count": null,
   "id": "9eb7d62e-7f1a-4229-92f8-cf99749d2aa3",
   "metadata": {},
   "outputs": [],
   "source": [
    "def get_close_tx(channel_id):\n",
    "    chan_url = \"https://mempool.space/api/v1/lightning/channels/\" + str(channel_id)\n",
    "    response = requests.get(chan_url)\n",
    "    try:\n",
    "        tx_id = json.loads(response.text)['closing_transaction_id']\n",
    "        return tx_id\n",
    "    except ValueError:\n",
    "        print(f\"Error with channel_id {channel_id}\")\n",
    "        return \"\""
   ]
  },
  {
   "cell_type": "code",
   "execution_count": null,
   "id": "40f628a8-7be7-444f-b291-8d5d3fd843ee",
   "metadata": {},
   "outputs": [],
   "source": [
    "#df['closing_tx'] = df.apply(lambda row: get_close_tx(row['id']), axis=1)\n",
    "df['closing_tx'] = df.progress_apply(lambda row: get_close_tx(row['id']), axis=1) #tqdm progress bar\n",
    "print(f\"Found all closing txs\")"
   ]
  },
  {
   "cell_type": "code",
   "execution_count": null,
   "id": "f3c1403f-3c1b-44f2-b0d4-3710afa1f785",
   "metadata": {},
   "outputs": [],
   "source": [
    "df.head()"
   ]
  },
  {
   "cell_type": "code",
   "execution_count": null,
   "id": "d3e04b64-4efd-44a6-b9b3-0b0d714f0909",
   "metadata": {},
   "outputs": [],
   "source": [
    "mempool_api_url = \"https://mempool.space\" #or local mempool.space instance"
   ]
  },
  {
   "cell_type": "code",
   "execution_count": null,
   "id": "8478c27a-2f1d-41ef-b5bd-a345b1e24c7c",
   "metadata": {},
   "outputs": [],
   "source": [
    "def get_sweep_transactions(closing_tx):\n",
    "    lst = []\n",
    "    for output in json.loads(closing_tx.text)['vout']:\n",
    "        lst.append(output['scriptpubkey_address'])\n",
    "    return lst"
   ]
  },
  {
   "cell_type": "code",
   "execution_count": null,
   "id": "7236eb7e-d478-4a58-902c-c2c7cbf72e4e",
   "metadata": {},
   "outputs": [],
   "source": [
    "def get_close_fee(tx_id, closing_reason):\n",
    "    closing_transaction_url = mempool_api_url + \"/api/tx/\" + tx_id\n",
    "    closing_tx = requests.get(closing_transaction_url) #If using local mempool instance, may have to add verify=False\n",
    "    fee = json.loads(closing_tx.text)['fee']\n",
    "    if closing_reason == 1:\n",
    "        return fee\n",
    "    lst_of_sweep_addresses = get_sweep_transactions(closing_tx)\n",
    "    for sweep_address in lst_of_sweep_addresses:\n",
    "        sweep_tx_url = mempool_api_url + \"/api/address/\" + sweep_address + \"/txs\"\n",
    "        sweep_tx = requests.get(sweep_tx_url) #If using local mempool instance, may have to add verify=False\n",
    "        fee += json.loads(sweep_tx.text)[0]['fee']\n",
    "    return fee"
   ]
  },
  {
   "cell_type": "code",
   "execution_count": null,
   "id": "d621b2b8-22e6-4dd4-9441-003937b22e12",
   "metadata": {},
   "outputs": [],
   "source": [
    "df['total_fee'] = 0\n",
    "#df['total_fee'] = df.apply(lambda row: get_close_fee(row['closing_tx'],row['closing_reason']), axis=1)\n",
    "df['total_fee'] = df.progress_apply(lambda row: get_close_fee(row['closing_tx'],row['closing_reason']), axis=1) #tqdm progress bar\n",
    "df.to_csv('df_fee.csv',index=False)\n",
    "print(f\"Fees Completed\")"
   ]
  },
  {
   "cell_type": "code",
   "execution_count": null,
   "id": "0b7185ad-b5c0-40fc-a5f8-7b0f877f4189",
   "metadata": {},
   "outputs": [],
   "source": [
    "df.head()"
   ]
  },
  {
   "cell_type": "code",
   "execution_count": null,
   "id": "4ceaa9c8-fdf1-4102-a989-e0714dcfe382",
   "metadata": {},
   "outputs": [],
   "source": []
  }
 ],
 "metadata": {
  "kernelspec": {
   "display_name": "Python 3 (ipykernel)",
   "language": "python",
   "name": "python3"
  },
  "language_info": {
   "codemirror_mode": {
    "name": "ipython",
    "version": 3
   },
   "file_extension": ".py",
   "mimetype": "text/x-python",
   "name": "python",
   "nbconvert_exporter": "python",
   "pygments_lexer": "ipython3",
   "version": "3.9.16"
  }
 },
 "nbformat": 4,
 "nbformat_minor": 5
}
